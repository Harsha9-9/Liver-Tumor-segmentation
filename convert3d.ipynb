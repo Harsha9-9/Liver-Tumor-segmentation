{
 "cells": [
  {
   "cell_type": "code",
   "execution_count": null,
   "id": "b965c18b",
   "metadata": {},
   "outputs": [],
   "source": [
    "!/mnt/DATA/Harsha/Downloads/c3d-1.0.0-Linux-x86_64/bin/c3d test-segmentation-37.nii -thresh 1 1 1 0 -comp -thresh 1 1 1 0 -type uchar -o cc1_37.nii.gz"
   ]
  },
  {
   "cell_type": "code",
   "execution_count": null,
   "id": "e5471462",
   "metadata": {},
   "outputs": [],
   "source": [
    "!/mnt/DATA/Harsha/Downloads/c3d-1.0.0-Linux-x86_64/bin/c3d new/res/final/test-segmentation-37.nii -thresh 1 1 1 0 -comp -thresh 1 1 1 0 -type uchar -o new/res/output/cc1_37.nii.gz"
   ]
  },
  {
   "cell_type": "code",
   "execution_count": 1,
   "id": "a95df1fc",
   "metadata": {},
   "outputs": [
    {
     "data": {
      "text/plain": [
       "'/mnt/DATA/Harsha/project'"
      ]
     },
     "execution_count": 1,
     "metadata": {},
     "output_type": "execute_result"
    }
   ],
   "source": [
    "pwd"
   ]
  },
  {
   "cell_type": "code",
   "execution_count": 2,
   "id": "250abe12",
   "metadata": {},
   "outputs": [
    {
     "name": "stdout",
     "output_type": "stream",
     "text": [
      "  There are 348 connected components.\r\n",
      "  Largest component has 1834335 pixels.\r\n"
     ]
    }
   ],
   "source": [
    "h='new/res/final/test-segmentation-37.nii'\n",
    "l='c_37.nii.gz'\n",
    "!/mnt/DATA/Harsha/Downloads/c3d-1.0.0-Linux-x86_64/bin/c3d {h} -thresh 1 1 1 0 -comp -thresh 1 1 1 0 -type uchar -o new/res/output/{l}"
   ]
  },
  {
   "cell_type": "code",
   "execution_count": 1,
   "id": "9d73050f",
   "metadata": {},
   "outputs": [
    {
     "data": {
      "text/html": [
       "<div>\n",
       "<style scoped>\n",
       "    .dataframe tbody tr th:only-of-type {\n",
       "        vertical-align: middle;\n",
       "    }\n",
       "\n",
       "    .dataframe tbody tr th {\n",
       "        vertical-align: top;\n",
       "    }\n",
       "\n",
       "    .dataframe thead th {\n",
       "        text-align: right;\n",
       "    }\n",
       "</style>\n",
       "<table border=\"1\" class=\"dataframe\">\n",
       "  <thead>\n",
       "    <tr style=\"text-align: right;\">\n",
       "      <th></th>\n",
       "      <th>volname</th>\n",
       "    </tr>\n",
       "  </thead>\n",
       "  <tbody>\n",
       "    <tr>\n",
       "      <th>0</th>\n",
       "      <td>Test</td>\n",
       "    </tr>\n",
       "    <tr>\n",
       "      <th>1</th>\n",
       "      <td>final</td>\n",
       "    </tr>\n",
       "    <tr>\n",
       "      <th>2</th>\n",
       "      <td>output</td>\n",
       "    </tr>\n",
       "    <tr>\n",
       "      <th>3</th>\n",
       "      <td>segmentation_lits</td>\n",
       "    </tr>\n",
       "    <tr>\n",
       "      <th>4</th>\n",
       "      <td>test-segmentation-res.nii</td>\n",
       "    </tr>\n",
       "    <tr>\n",
       "      <th>5</th>\n",
       "      <td>test-segmentation.nii</td>\n",
       "    </tr>\n",
       "  </tbody>\n",
       "</table>\n",
       "</div>"
      ],
      "text/plain": [
       "                     volname\n",
       "0                       Test\n",
       "1                      final\n",
       "2                     output\n",
       "3          segmentation_lits\n",
       "4  test-segmentation-res.nii\n",
       "5      test-segmentation.nii"
      ]
     },
     "execution_count": 1,
     "metadata": {},
     "output_type": "execute_result"
    }
   ],
   "source": [
    "import os\n",
    "import pandas as pd\n",
    "vol_list = []\n",
    "for filename in sorted(os.listdir('new/res/')):\n",
    "    vol_list.append(filename)\n",
    "\n",
    "df_files = pd.DataFrame(vol_list,columns=['volname'])\n",
    "df_files"
   ]
  },
  {
   "cell_type": "code",
   "execution_count": 3,
   "id": "4b66e53b",
   "metadata": {},
   "outputs": [
    {
     "name": "stdout",
     "output_type": "stream",
     "text": [
      "  There are 1 connected components.\n",
      "  Largest component has 3331480 pixels.\n",
      "completed 4\n"
     ]
    }
   ],
   "source": [
    "rows = len(df_files)\n",
    "dir_path = 'new/res/'\n",
    "for i in range(4,5):\n",
    "  vol_path=os.path.join(dir_path+df_files['volname'][i]) \n",
    "  file_name = str(df_files.loc[i,'volname']).split('-')[2]\n",
    "  number = str(file_name).split('.')[0]\n",
    "  out_path=f\"test-segmentation-{number}.nii\"\n",
    "  inter = 'inm.nii'\n",
    "  !/mnt/DATA/Harsha/Downloads/c3d-1.0.0-Linux-x86_64/bin/c3d {vol_path} -smooth 2vox -type uchar -o new/res/output/{out_path}\n",
    "  !/mnt/DATA/Harsha/Downloads/c3d-1.0.0-Linux-x86_64/bin/c3d new/res/output/{out_path} -replace 2 0 -comp -thresh 1 1 1 0 -type uchar -o {inter}\n",
    "  !/mnt/DATA/Harsha/Downloads/c3d-1.0.0-Linux-x86_64/bin/c3d new/res/output/{out_path} -replace 1 0  {inter} -add -type uchar -o new/res/output/{out_path}\n",
    "  print('completed',i)"
   ]
  },
  {
   "cell_type": "code",
   "execution_count": null,
   "id": "a08c1088",
   "metadata": {},
   "outputs": [],
   "source": []
  }
 ],
 "metadata": {
  "kernelspec": {
   "display_name": "Python 3 (ipykernel)",
   "language": "python",
   "name": "python3"
  },
  "language_info": {
   "codemirror_mode": {
    "name": "ipython",
    "version": 3
   },
   "file_extension": ".py",
   "mimetype": "text/x-python",
   "name": "python",
   "nbconvert_exporter": "python",
   "pygments_lexer": "ipython3",
   "version": "3.7.11"
  }
 },
 "nbformat": 4,
 "nbformat_minor": 5
}
